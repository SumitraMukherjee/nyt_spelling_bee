{
  "nbformat": 4,
  "nbformat_minor": 0,
  "metadata": {
    "colab": {
      "provenance": [],
      "collapsed_sections": [],
      "authorship_tag": "ABX9TyMEIhlwcwRB4habbFCGkJ2g",
      "include_colab_link": true
    },
    "kernelspec": {
      "name": "python3",
      "display_name": "Python 3"
    },
    "language_info": {
      "name": "python"
    }
  },
  "cells": [
    {
      "cell_type": "markdown",
      "metadata": {
        "id": "view-in-github",
        "colab_type": "text"
      },
      "source": [
        "<a href=\"https://colab.research.google.com/github/SumitraMukherjee/nyt_spelling_bee/blob/main/nyt_selling_bee_solver.ipynb\" target=\"_parent\"><img src=\"https://colab.research.google.com/assets/colab-badge.svg\" alt=\"Open In Colab\"/></a>"
      ]
    },
    {
      "cell_type": "markdown",
      "metadata": {
        "id": "fXzMZYCPjbBB"
      },
      "source": [
        "# NYT Spelling Bee Solver\n",
        "https://www.nytimes.com/puzzles/spelling-bee\n",
        "\n",
        "Type in the 7 letters, starting with the required letter to get list of qualifying words."
      ]
    },
    {
      "cell_type": "code",
      "source": [
        "from urllib.request import urlopen\n",
        "SOURCE_URL = 'https://norvig.com/ngrams/sowpods.txt' # source of words\n",
        "\n",
        "def vocab(MIN_WORD_LENGTH):\n",
        "    \"\"\"Returns list of words containing at least MIN_WORD_LENGTH letters\"\"\"\n",
        "    with urlopen(SOURCE_URL) as f:\n",
        "        wds = f.read().decode('utf-8').split('\\n') # list of words\n",
        "    return [w for w in wds if len(w) >= MIN_WORD_LENGTH] # qualifying words\n",
        "\n",
        "def solve_puzzle(MIN_WORD_LENGTH, LTRS):\n",
        "    \"\"\"Returns list of words containing at least MIN_WORD_LENGTH letters, with\n",
        "       the first letter in LTRS, and no letter that is not in LTRS\"\"\"\n",
        "    C, CHRS, VOCAB = LTRS[0], set(LTRS), vocab(MIN_WORD_LENGTH) \n",
        "    wds = [w for w in VOCAB if C in w and all((c in CHRS) for c in w)]\n",
        "    pan = [w for w in wds if set(w)==CHRS] # pangrams\n",
        "    print(f'\\n{len(wds)} words found using {C} and the letters {LTRS[1:]}')\n",
        "    print( f'Panagrams: {\", \".join(p for p in pan)}')\n",
        "    for i,w in enumerate(wds):\n",
        "        print('\\n' + w, end=', ') if i%5==0 else print(w, end=', ')\n",
        "    return\n",
        "\n",
        "LTRS = input('Enter 7 letters, starting with the required letter: ').upper() \n",
        "MIN_WORD_LENGTH = int(input('Specify minimum word length: ') or '4') \n",
        "\n",
        "solve_puzzle(MIN_WORD_LENGTH, LTRS)"
      ],
      "metadata": {
        "colab": {
          "base_uri": "https://localhost:8080/"
        },
        "id": "-Q1uYH8q3K8d",
        "outputId": "b6589df6-f216-403d-d7a7-54fa6f103d5f"
      },
      "execution_count": 2,
      "outputs": [
        {
          "output_type": "stream",
          "name": "stdout",
          "text": [
            "Enter 7 letters, starting with the required letter: fabdlor\n",
            "Specify minimum word length: \n",
            "\n",
            "60 words found using F and the letters ABDLOR\n",
            "Panagrams: FALLBOARD, FLOORBOARD\n",
            "\n",
            "ABFARAD, AFALD, AFAR, AFARA, AFFOORD, \n",
            "AFFORD, AFRO, ALFA, ALFALFA, ALOOF, \n",
            "BAFF, BARF, BLAFF, BOFF, BOFFO, \n",
            "BOFFOLA, DAFF, DARAF, DOFF, DRAFF, \n",
            "FADO, FAFF, FALBALA, FALL, FALLAL, \n",
            "FALLBOARD, FALLOFF, FARAD, FARD, FARFAL, \n",
            "FARL, FARO, FLAB, FLAFF, FLOOD, \n",
            "FLOOR, FLOORBOARD, FLOR, FLORA, FLORAL, \n",
            "FOAL, FOLD, FOOBAR, FOOD, FOOL, \n",
            "FORA, FORB, FORBAD, FORD, FORDO, \n",
            "FORRAD, FRAB, LOAF, LOOF, LOOFA, \n",
            "OFFAL, OFFLOAD, RAFF, ROLF, ROOF, "
          ]
        }
      ]
    }
  ]
}