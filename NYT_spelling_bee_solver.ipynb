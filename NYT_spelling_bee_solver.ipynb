{
  "nbformat": 4,
  "nbformat_minor": 0,
  "metadata": {
    "colab": {
      "provenance": [],
      "authorship_tag": "ABX9TyPibfodIFm8bbr0J/1zN0wn",
      "include_colab_link": true
    },
    "kernelspec": {
      "name": "python3",
      "display_name": "Python 3"
    },
    "language_info": {
      "name": "python"
    }
  },
  "cells": [
    {
      "cell_type": "markdown",
      "metadata": {
        "id": "view-in-github",
        "colab_type": "text"
      },
      "source": [
        "<a href=\"https://colab.research.google.com/github/SumitraMukherjee/nyt_spelling_bee/blob/main/NYT_spelling_bee_solver.ipynb\" target=\"_parent\"><img src=\"https://colab.research.google.com/assets/colab-badge.svg\" alt=\"Open In Colab\"/></a>"
      ]
    },
    {
      "cell_type": "markdown",
      "metadata": {
        "id": "fXzMZYCPjbBB"
      },
      "source": [
        "# NYT Spelling Bee Solver\n",
        "https://www.nytimes.com/puzzles/spelling-bee\n",
        "\n",
        "Type in the 7 letters, starting with the required letter to get list of qualifying words."
      ]
    },
    {
      "cell_type": "code",
      "source": [
        "from urllib.request import urlopen\n",
        "SOURCE_URL_NORVIG = 'https://norvig.com/ngrams/sowpods.txt' # source of words\n",
        "SOURCE_URL_SALK = 'https://raw.githubusercontent.com/brianSalk/spelling-bee-solver-frontend/main/english_no_proper'\n",
        "\n",
        "def vocab(SOURCE_URL, MIN_WORD_LENGTH):\n",
        "    \"\"\"Returns list of words containing at least MIN_WORD_LENGTH letters\"\"\"\n",
        "    with urlopen(SOURCE_URL) as f:\n",
        "        wds = f.read().decode('utf-8').split('\\n') # list of words\n",
        "    return [w.upper() for w in wds if len(w) >= MIN_WORD_LENGTH] # qualifying words\n",
        "\n",
        "def solve_puzzle(MIN_WORD_LENGTH, LTRS):\n",
        "    \"\"\"Returns list of words containing at least MIN_WORD_LENGTH letters, with\n",
        "       the first letter in LTRS, and no letter that is not in LTRS\"\"\"\n",
        "    C, CHRS, VOCAB = LTRS[0], set(LTRS), vocab(SOURCE_URL_NORVIG, MIN_WORD_LENGTH)\n",
        "    wds = [w for w in VOCAB if C in w and all((c in CHRS) for c in w)]\n",
        "    print(f'\\n{len(wds)} words found using {C} and the letters {LTRS[1:]}')\n",
        "    pan = [w for w in wds if set(w)==CHRS] # pangrams\n",
        "    other_wds = [w for w in wds if w not in pan] # non-pangrams\n",
        "    SALK_VOCAB = set(vocab(SOURCE_URL_SALK, MIN_WORD_LENGTH))\n",
        "    wds1 = [w for w in other_wds if w in SALK_VOCAB]\n",
        "    wds2 = [w for w in other_wds if w not in wds1]\n",
        "    for name, W in zip(['Pangram', 'Common', 'Other'], [pan, wds1, wds2]):\n",
        "        print(f'\\n{(len(W))} {name} words:', end='')\n",
        "        for i,w in enumerate(W):\n",
        "            print('\\n' + w, end=', ') if i%5==0 else print(w, end=', ')\n",
        "        print()\n",
        "    return\n",
        "\n",
        "LTRS = input('Enter 7 letters, starting with the required letter: ').upper()\n",
        "MIN_WORD_LENGTH = int(input('Specify minimum word length: ') or '4')\n",
        "\n",
        "solve_puzzle(MIN_WORD_LENGTH, LTRS)"
      ],
      "metadata": {
        "id": "-Q1uYH8q3K8d",
        "colab": {
          "base_uri": "https://localhost:8080/"
        },
        "outputId": "c8ba1a02-e85d-4f0f-e113-9723c1d4ae0f"
      },
      "execution_count": 7,
      "outputs": [
        {
          "output_type": "stream",
          "name": "stdout",
          "text": [
            "Enter 7 letters, starting with the required letter: COMMUNAL\n",
            "Specify minimum word length: \n",
            "\n",
            "97 words found using C and the letters OMMUNAL\n",
            "\n",
            "2 Pangram words:\n",
            "COLUMNAL, COMMUNAL, \n",
            "\n",
            "28 Common words:\n",
            "ALMANAC, CACAO, CALL, CALM, CANAL, \n",
            "CANCAN, CANNON, CANON, CLAM, CLAN, \n",
            "COAL, COCOA, COCOON, COLA, COLON, \n",
            "COLUMN, COMA, COMM, COMMA, COMMON, \n",
            "COOL, COON, CULL, LACUNA, LOCAL, \n",
            "LOCO, NONCOM, UNCOMMON, \n",
            "\n",
            "67 Other words:\n",
            "ACCA, ALCO, ALCOOL, ANCON, ANCONAL, \n",
            "CACA, CACOON, CALALOO, CALALU, CALAMANCO, \n",
            "CALLA, CALLALOO, CALLAN, CALLUNA, CALO, \n",
            "CAMA, CAMAN, CAMO, CANN, CANNA, \n",
            "CANNULA, CANOLA, CANULA, CAUL, CAUM, \n",
            "CLOACA, CLOACAL, CLOAM, CLON, CLONAL, \n",
            "CLOU, COALA, COALMAN, COCA, COCCAL, \n",
            "COCCO, COCO, COLCANNON, COLL, COMAL, \n",
            "COMMO, CONN, COOCOO, COOLAMON, COOM, \n",
            "COONCAN, COUCAL, CULM, LACUNAL, LOCA, \n",
            "LOCOMAN, LOCUM, LUCUMA, LUCUMO, MACACO, \n",
            "MACALLUM, MACON, MACULA, MALACCA, MANCALA, \n",
            "MONOCLONAL, MUCLUC, NONCOLA, NONLOCAL, OCCAM, \n",
            "UNCO, UNCOOL, \n"
          ]
        }
      ]
    }
  ]
}